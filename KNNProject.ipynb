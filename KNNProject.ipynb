{
  "nbformat": 4,
  "nbformat_minor": 0,
  "metadata": {
    "colab": {
      "name": "KNNProject.ipynb",
      "provenance": [],
      "collapsed_sections": [],
      "authorship_tag": "ABX9TyNDJbFF0mHsXxlL1g0Hwg0n",
      "include_colab_link": true
    },
    "kernelspec": {
      "name": "python3",
      "display_name": "Python 3"
    }
  },
  "cells": [
    {
      "cell_type": "markdown",
      "metadata": {
        "id": "view-in-github",
        "colab_type": "text"
      },
      "source": [
        "<a href=\"https://colab.research.google.com/github/wcaraker76/4GeeksProjects/blob/main/KNNProject.ipynb\" target=\"_parent\"><img src=\"https://colab.research.google.com/assets/colab-badge.svg\" alt=\"Open In Colab\"/></a>"
      ]
    },
    {
      "cell_type": "code",
      "metadata": {
        "id": "OUhhE74L1xBB"
      },
      "source": [
        "import numpy as np\n",
        "import urllib.request as ur\n",
        "import matplotlib.pyplot as plt\n",
        "\n",
        "class KNNClassifier: #create the class\n",
        "    def __init__(self, k): \n",
        "      self.k = k\n",
        "        \n",
        "    def __repr__(self): #returns the number of neighbors\n",
        "      return str(self.k)\n",
        "    \n",
        "    def fit(self, X, y): #defines the fit function \n",
        "      self.x_train = X\n",
        "      self.y_train = y\n",
        "\n",
        "    def predict(self, X): #define the predict function\n",
        "      self.x_predict = X\n",
        "      prediction = [] #stores the predicted labels\n",
        "      k = self.k\n",
        "      for r in self.x_predict:  \n",
        "          distance = np.sum((self.x_train - r)**2, axis=1)  #distance between each input row and each new row\n",
        "          top_k = np.argsort(distance)[:k]\n",
        "          count = np.bincount(self.y_train[top_k].astype('int32')) #finds frequency of each label in top_k and converts it to an integer then flattens the array\n",
        "          prediction.append(np.argmax(count)) #add the label with the highest count to prediction list \n",
        "      return prediction\n",
        "  \n",
        "\n",
        "\n",
        "url = \"http://www.pjreddie.com/media/files/mnist_train.csv\" #load the url to maniuplate \n",
        "file = ur.urlopen(url)\n",
        "data = np.loadtxt(file, delimiter = ',')\n",
        "\n",
        "np.random.shuffle(data) #shuffle the data\n",
        "#Create the validation and training data and labels\n",
        "\n"
      ],
      "execution_count": null,
      "outputs": []
    },
    {
      "cell_type": "code",
      "metadata": {
        "id": "tA6hY2tv4r6G"
      },
      "source": [
        "split_data_idx = int(data.shape[0]*0.8) #splitting the data 80%/20%\n",
        "\n",
        "val_data = data[split_data_idx: , 1:]\n",
        "train_data = data[:split_data_idx , 1:]\n",
        "val_label = data[split_data_idx:, 0]\n",
        "train_label = data[:split_data_idx, 0]\n",
        "\n",
        "# create a for loop for the values of 1 to 25\n",
        "acc = [] #list for the accuracy values \n",
        "knn = [KNNClassifier(k) for k in range(1 , 25)]\n",
        "for i in range(len(knn)): #feed using the fit method \n",
        "    knn[i].fit(train_data, train_label)\n",
        "    label_prediction = knn[i].predict(val_data)\n",
        "    acc_k = np.sum(np.array(label_prediction) == val_label) / val_data.shape[0] #calculate the accuracy \n",
        "    acc.append(acc_k)\n",
        "plt.plot(acc, knn)  \n",
        "plt.show()\n"
      ],
      "execution_count": null,
      "outputs": []
    },
    {
      "cell_type": "code",
      "source": [
        "import numpy as np\n",
        "import urllib.request as ur\n",
        "import matplotlib.pyplot as plt\n",
        "\n",
        "class KNNClassifier: #create the class\n",
        "    def __init__(self, k): \n",
        "      self.k = k\n",
        "        \n",
        "    def __repr__(self): #returns the number of neighbors\n",
        "      return str(self.k)\n",
        "    \n",
        "    def fit(self, X, y): #defines the fit function \n",
        "      self.x_train = X\n",
        "      self.y_train = y\n",
        "\n",
        "    def predict(self, X): #define the predict function\n",
        "      self.x_predict = X\n",
        "      prediction = [] #stores the predicted labels\n",
        "      k = self.k\n",
        "      for r in self.x_predict:  \n",
        "          distance = np.sum((self.x_train - r)**2, axis=1)  #distance between each input row and each new row\n",
        "          top_k = np.argsort(distance)[:k]\n",
        "          count = np.bincount(self.y_train[top_k].astype('int32')) #finds frequency of each label in top_k and converts it to an integer then flattens the array\n",
        "          prediction.append(np.argmax(count)) #add the label with the highest count to prediction list \n",
        "      return prediction\n",
        "  \n",
        "\n",
        "\n",
        "url = \"http://www.pjreddie.com/media/files/mnist_train.csv\" #load the url to maniuplate \n",
        "file = ur.urlopen(url)\n",
        "data = np.loadtxt(file, delimiter = ',')\n",
        "\n",
        "np.random.shuffle(data) #shuffle the data\n",
        "#Create the validation and training data and labels\n",
        "\n",
        "split_data_idx = int(data.shape[0]*0.8) #splitting the data 80%/20%\n",
        "\n",
        "val_data = data[split_data_idx: , 1:]\n",
        "train_data = data[:split_data_idx , 1:]\n",
        "val_label = data[split_data_idx:, 0]\n",
        "train_label = data[:split_data_idx, 0]\n",
        "\n",
        "# create a for loop for the values of 1 to 25\n",
        "acc = [] #list for the accuracy values \n",
        "knn = [KNNClassifier(k) for k in range(1 , 25)]\n",
        "for i in range(len(knn)): #feed using the fit method \n",
        "    knn[i].fit(train_data, train_label)\n",
        "    label_prediction = knn[i].predict(val_data)\n",
        "    acc_k = np.sum(np.array(label_prediction) == val_label) / val_data.shape[0] #calculate the accuracy \n",
        "    acc.append(acc_k)\n",
        "plt.plot(acc, knn)  \n",
        "plt.show()"
      ],
      "metadata": {
        "colab": {
          "base_uri": "https://localhost:8080/",
          "height": 380
        },
        "id": "ki6Imluokp_p",
        "outputId": "0d10c69f-11ae-440b-9b13-3541980e5d42"
      },
      "execution_count": null,
      "outputs": [
        {
          "output_type": "error",
          "ename": "KeyboardInterrupt",
          "evalue": "ignored",
          "traceback": [
            "\u001b[0;31m---------------------------------------------------------------------------\u001b[0m",
            "\u001b[0;31mKeyboardInterrupt\u001b[0m                         Traceback (most recent call last)",
            "\u001b[0;32m<ipython-input-2-646e66e4d833>\u001b[0m in \u001b[0;36m<module>\u001b[0;34m()\u001b[0m\n\u001b[1;32m     29\u001b[0m \u001b[0murl\u001b[0m \u001b[0;34m=\u001b[0m \u001b[0;34m\"http://www.pjreddie.com/media/files/mnist_train.csv\"\u001b[0m \u001b[0;31m#load the url to maniuplate\u001b[0m\u001b[0;34m\u001b[0m\u001b[0;34m\u001b[0m\u001b[0m\n\u001b[1;32m     30\u001b[0m \u001b[0mfile\u001b[0m \u001b[0;34m=\u001b[0m \u001b[0mur\u001b[0m\u001b[0;34m.\u001b[0m\u001b[0murlopen\u001b[0m\u001b[0;34m(\u001b[0m\u001b[0murl\u001b[0m\u001b[0;34m)\u001b[0m\u001b[0;34m\u001b[0m\u001b[0;34m\u001b[0m\u001b[0m\n\u001b[0;32m---> 31\u001b[0;31m \u001b[0mdata\u001b[0m \u001b[0;34m=\u001b[0m \u001b[0mnp\u001b[0m\u001b[0;34m.\u001b[0m\u001b[0mloadtxt\u001b[0m\u001b[0;34m(\u001b[0m\u001b[0mfile\u001b[0m\u001b[0;34m,\u001b[0m \u001b[0mdelimiter\u001b[0m \u001b[0;34m=\u001b[0m \u001b[0;34m','\u001b[0m\u001b[0;34m)\u001b[0m\u001b[0;34m\u001b[0m\u001b[0;34m\u001b[0m\u001b[0m\n\u001b[0m\u001b[1;32m     32\u001b[0m \u001b[0;34m\u001b[0m\u001b[0m\n\u001b[1;32m     33\u001b[0m \u001b[0mnp\u001b[0m\u001b[0;34m.\u001b[0m\u001b[0mrandom\u001b[0m\u001b[0;34m.\u001b[0m\u001b[0mshuffle\u001b[0m\u001b[0;34m(\u001b[0m\u001b[0mdata\u001b[0m\u001b[0;34m)\u001b[0m \u001b[0;31m#shuffle the data\u001b[0m\u001b[0;34m\u001b[0m\u001b[0;34m\u001b[0m\u001b[0m\n",
            "\u001b[0;32m/usr/local/lib/python3.7/dist-packages/numpy/lib/npyio.py\u001b[0m in \u001b[0;36mloadtxt\u001b[0;34m(fname, dtype, comments, delimiter, converters, skiprows, usecols, unpack, ndmin, encoding, max_rows)\u001b[0m\n\u001b[1;32m   1137\u001b[0m         \u001b[0;31m# converting the data\u001b[0m\u001b[0;34m\u001b[0m\u001b[0;34m\u001b[0m\u001b[0;34m\u001b[0m\u001b[0m\n\u001b[1;32m   1138\u001b[0m         \u001b[0mX\u001b[0m \u001b[0;34m=\u001b[0m \u001b[0;32mNone\u001b[0m\u001b[0;34m\u001b[0m\u001b[0;34m\u001b[0m\u001b[0m\n\u001b[0;32m-> 1139\u001b[0;31m         \u001b[0;32mfor\u001b[0m \u001b[0mx\u001b[0m \u001b[0;32min\u001b[0m \u001b[0mread_data\u001b[0m\u001b[0;34m(\u001b[0m\u001b[0m_loadtxt_chunksize\u001b[0m\u001b[0;34m)\u001b[0m\u001b[0;34m:\u001b[0m\u001b[0;34m\u001b[0m\u001b[0;34m\u001b[0m\u001b[0m\n\u001b[0m\u001b[1;32m   1140\u001b[0m             \u001b[0;32mif\u001b[0m \u001b[0mX\u001b[0m \u001b[0;32mis\u001b[0m \u001b[0;32mNone\u001b[0m\u001b[0;34m:\u001b[0m\u001b[0;34m\u001b[0m\u001b[0;34m\u001b[0m\u001b[0m\n\u001b[1;32m   1141\u001b[0m                 \u001b[0mX\u001b[0m \u001b[0;34m=\u001b[0m \u001b[0mnp\u001b[0m\u001b[0;34m.\u001b[0m\u001b[0marray\u001b[0m\u001b[0;34m(\u001b[0m\u001b[0mx\u001b[0m\u001b[0;34m,\u001b[0m \u001b[0mdtype\u001b[0m\u001b[0;34m)\u001b[0m\u001b[0;34m\u001b[0m\u001b[0;34m\u001b[0m\u001b[0m\n",
            "\u001b[0;32m/usr/local/lib/python3.7/dist-packages/numpy/lib/npyio.py\u001b[0m in \u001b[0;36mread_data\u001b[0;34m(chunk_size)\u001b[0m\n\u001b[1;32m   1065\u001b[0m \u001b[0;34m\u001b[0m\u001b[0m\n\u001b[1;32m   1066\u001b[0m             \u001b[0;31m# Convert each value according to its column and store\u001b[0m\u001b[0;34m\u001b[0m\u001b[0;34m\u001b[0m\u001b[0;34m\u001b[0m\u001b[0m\n\u001b[0;32m-> 1067\u001b[0;31m             \u001b[0mitems\u001b[0m \u001b[0;34m=\u001b[0m \u001b[0;34m[\u001b[0m\u001b[0mconv\u001b[0m\u001b[0;34m(\u001b[0m\u001b[0mval\u001b[0m\u001b[0;34m)\u001b[0m \u001b[0;32mfor\u001b[0m \u001b[0;34m(\u001b[0m\u001b[0mconv\u001b[0m\u001b[0;34m,\u001b[0m \u001b[0mval\u001b[0m\u001b[0;34m)\u001b[0m \u001b[0;32min\u001b[0m \u001b[0mzip\u001b[0m\u001b[0;34m(\u001b[0m\u001b[0mconverters\u001b[0m\u001b[0;34m,\u001b[0m \u001b[0mvals\u001b[0m\u001b[0;34m)\u001b[0m\u001b[0;34m]\u001b[0m\u001b[0;34m\u001b[0m\u001b[0;34m\u001b[0m\u001b[0m\n\u001b[0m\u001b[1;32m   1068\u001b[0m \u001b[0;34m\u001b[0m\u001b[0m\n\u001b[1;32m   1069\u001b[0m             \u001b[0;31m# Then pack it according to the dtype's nesting\u001b[0m\u001b[0;34m\u001b[0m\u001b[0;34m\u001b[0m\u001b[0;34m\u001b[0m\u001b[0m\n",
            "\u001b[0;32m/usr/local/lib/python3.7/dist-packages/numpy/lib/npyio.py\u001b[0m in \u001b[0;36m<listcomp>\u001b[0;34m(.0)\u001b[0m\n\u001b[1;32m   1065\u001b[0m \u001b[0;34m\u001b[0m\u001b[0m\n\u001b[1;32m   1066\u001b[0m             \u001b[0;31m# Convert each value according to its column and store\u001b[0m\u001b[0;34m\u001b[0m\u001b[0;34m\u001b[0m\u001b[0;34m\u001b[0m\u001b[0m\n\u001b[0;32m-> 1067\u001b[0;31m             \u001b[0mitems\u001b[0m \u001b[0;34m=\u001b[0m \u001b[0;34m[\u001b[0m\u001b[0mconv\u001b[0m\u001b[0;34m(\u001b[0m\u001b[0mval\u001b[0m\u001b[0;34m)\u001b[0m \u001b[0;32mfor\u001b[0m \u001b[0;34m(\u001b[0m\u001b[0mconv\u001b[0m\u001b[0;34m,\u001b[0m \u001b[0mval\u001b[0m\u001b[0;34m)\u001b[0m \u001b[0;32min\u001b[0m \u001b[0mzip\u001b[0m\u001b[0;34m(\u001b[0m\u001b[0mconverters\u001b[0m\u001b[0;34m,\u001b[0m \u001b[0mvals\u001b[0m\u001b[0;34m)\u001b[0m\u001b[0;34m]\u001b[0m\u001b[0;34m\u001b[0m\u001b[0;34m\u001b[0m\u001b[0m\n\u001b[0m\u001b[1;32m   1068\u001b[0m \u001b[0;34m\u001b[0m\u001b[0m\n\u001b[1;32m   1069\u001b[0m             \u001b[0;31m# Then pack it according to the dtype's nesting\u001b[0m\u001b[0;34m\u001b[0m\u001b[0;34m\u001b[0m\u001b[0;34m\u001b[0m\u001b[0m\n",
            "\u001b[0;32m/usr/local/lib/python3.7/dist-packages/numpy/lib/npyio.py\u001b[0m in \u001b[0;36mfloatconv\u001b[0;34m(x)\u001b[0m\n\u001b[1;32m    761\u001b[0m         \u001b[0;32mif\u001b[0m \u001b[0;34m'0x'\u001b[0m \u001b[0;32min\u001b[0m \u001b[0mx\u001b[0m\u001b[0;34m:\u001b[0m\u001b[0;34m\u001b[0m\u001b[0;34m\u001b[0m\u001b[0m\n\u001b[1;32m    762\u001b[0m             \u001b[0;32mreturn\u001b[0m \u001b[0mfloat\u001b[0m\u001b[0;34m.\u001b[0m\u001b[0mfromhex\u001b[0m\u001b[0;34m(\u001b[0m\u001b[0mx\u001b[0m\u001b[0;34m)\u001b[0m\u001b[0;34m\u001b[0m\u001b[0;34m\u001b[0m\u001b[0m\n\u001b[0;32m--> 763\u001b[0;31m         \u001b[0;32mreturn\u001b[0m \u001b[0mfloat\u001b[0m\u001b[0;34m(\u001b[0m\u001b[0mx\u001b[0m\u001b[0;34m)\u001b[0m\u001b[0;34m\u001b[0m\u001b[0;34m\u001b[0m\u001b[0m\n\u001b[0m\u001b[1;32m    764\u001b[0m \u001b[0;34m\u001b[0m\u001b[0m\n\u001b[1;32m    765\u001b[0m     \u001b[0mtyp\u001b[0m \u001b[0;34m=\u001b[0m \u001b[0mdtype\u001b[0m\u001b[0;34m.\u001b[0m\u001b[0mtype\u001b[0m\u001b[0;34m\u001b[0m\u001b[0;34m\u001b[0m\u001b[0m\n",
            "\u001b[0;31mKeyboardInterrupt\u001b[0m: "
          ]
        }
      ]
    }
  ]
}